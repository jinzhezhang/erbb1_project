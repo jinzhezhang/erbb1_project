{
 "cells": [
  {
   "cell_type": "code",
   "execution_count": 21,
   "metadata": {},
   "outputs": [
    {
     "name": "stdout",
     "output_type": "stream",
     "text": [
      "The autoreload extension is already loaded. To reload it, use:\n",
      "  %reload_ext autoreload\n"
     ]
    }
   ],
   "source": [
    "import pandas as pd\n",
    "import matplotlib.pyplot as plt\n",
    "import torch\n",
    "import rdkit\n",
    "\n",
    "%load_ext autoreload\n",
    "%autoreload 2\n",
    "\n",
    "%matplotlib inline"
   ]
  },
  {
   "cell_type": "code",
   "execution_count": 3,
   "metadata": {},
   "outputs": [],
   "source": [
    "cwd = %pwd"
   ]
  },
  {
   "cell_type": "markdown",
   "metadata": {},
   "source": [
    "## Run Training"
   ]
  },
  {
   "cell_type": "code",
   "execution_count": 14,
   "metadata": {},
   "outputs": [
    {
     "name": "stdout",
     "output_type": "stream",
     "text": [
      "The code uses a GPU!\n",
      "/home/zhang/elix\n",
      "/home/zhang/elix/gnn/main\n",
      "The code uses a GPU!\n",
      "Preprocessing the erbb1_clean_log_ic50 dataset.\n",
      "Just a moment......\n",
      "----------------------------------------------------------------------------------------------------\n",
      "The preprocess has finished!\n",
      "# of training data samples: 5517\n",
      "# of development data samples: 552\n",
      "# of test data samples: 1375\n",
      "----------------------------------------------------------------------------------------------------\n",
      "Creating a model.\n",
      "# of model parameters: 530651\n",
      "----------------------------------------------------------------------------------------------------\n",
      "Start training.\n",
      "The result is saved in the output directory every epoch!\n",
      "The training will finish in about 0 hours 19 minutes.\n",
      "----------------------------------------------------------------------------------------------------\n",
      "Epoch\tTime(sec)\tLoss_train\tMAE_train\tMAE_test\n",
      "1\t5.711662724614143\t4219.664638519287\t5.488271040652973\t5.77082952633771\n",
      "2\t11.313819234259427\t2336.885392189026\t3.5633721064398256\t3.552437214851379\n",
      "3\t16.595585629343987\t1387.3345031738281\t2.9688588082790375\t3.0033873922174625\n",
      "4\t21.61066190060228\t1032.9879989624023\t2.6921457723862883\t2.7387692057869653\n",
      "5\t26.840149748139083\t944.0568871498108\t2.5809733766144602\t2.6340692765495994\n",
      "6\t32.0449217800051\t872.0475690364838\t2.4798601271881573\t2.5691629649942573\n",
      "7\t37.96094769798219\t831.6768627166748\t2.4449609494295674\t2.4890738973617554\n",
      "8\t43.25269484240562\t775.9841032028198\t2.535518406525902\t2.557485150423917\n",
      "9\t48.24228131212294\t754.2229323387146\t2.3088823997456096\t2.4303902561881325\n",
      "10\t54.19022372737527\t708.7539525032043\t2.2599520599064618\t2.364322309667414\n",
      "11\t59.43183671217412\t689.4072661399841\t2.302149107058843\t2.3597860985669223\n",
      "12\t65.44865962583572\t665.4358687400818\t2.200756595186565\t2.3336745278618554\n",
      "13\t71.377037496306\t647.5111899375916\t2.12686565367208\t2.2409987623908303\n",
      "14\t76.38718931004405\t620.8913898468018\t2.103981652121613\t2.2112696874791924\n",
      "15\t81.424351060763\t613.1497230529785\t2.223871916100599\t2.3561325162540783\n",
      "16\t87.07259438745677\t613.921395778656\t2.0949292742255805\t2.2108613013354215\n",
      "17\t92.3222666233778\t584.3105478286743\t2.038649645836457\t2.1290416981957176\n",
      "18\t98.1046080365777\t575.5727155208588\t2.039127259798672\t2.141232018210671\n",
      "19\t103.16490419767797\t568.5983815193176\t2.0048160378051842\t2.102157235925848\n",
      "20\t108.42493755277246\t550.0540738105774\t1.9825396665196489\t2.072189889994535\n",
      "21\t113.55778805911541\t534.6137824058533\t1.973307552544967\t2.0610028073570943\n",
      "22\t119.16213673632592\t531.4594485759735\t2.0236027193242223\t2.066347650788047\n",
      "23\t124.81673444528133\t537.9556574821472\t2.0123300433590794\t2.106382752591913\n",
      "24\t130.3798891827464\t518.1126945018768\t1.9205066725827646\t1.996881370457736\n",
      "25\t135.81567348726094\t513.7442002296448\t1.994514441360598\t2.0366072757027367\n",
      "26\t141.67876760475338\t488.30835795402527\t1.9323452881712844\t2.0271502337022262\n",
      "27\t146.836481846869\t507.80202174186707\t1.887696094918942\t1.9615571963570335\n",
      "28\t152.08800090290606\t481.63480043411255\t1.9269733672988587\t1.9562343118840997\n",
      "29\t157.2771341735497\t464.6176223754883\t1.8365566823361577\t1.9002599879178135\n",
      "30\t163.01601135078818\t456.49450421333313\t1.864294318617254\t1.9452119962518866\n",
      "31\t168.61363247968256\t442.4049069881439\t1.8179795951515003\t1.8817262015776202\n",
      "32\t173.92328334785998\t452.9482626914978\t1.8239976681660914\t1.9210080349662086\n",
      "33\t179.12616006843746\t445.13332319259644\t1.7995887014313021\t1.832314693407579\n",
      "34\t184.5052544241771\t432.8870530128479\t1.7846382679282755\t1.8258047409057616\n",
      "35\t189.53386308439076\t415.07043743133545\t1.7581978793377462\t1.8369850783348083\n",
      "36\t194.88245243858546\t433.04149055480957\t1.7451863996144654\t1.7974496481201865\n",
      "37\t200.0339827053249\t401.7929005622864\t1.7392056853226994\t1.774904608336362\n",
      "38\t205.90118677634746\t391.1518416404724\t1.7228270780997\t1.7528954421390186\n",
      "39\t211.24927400052547\t392.9390666484833\t1.7127066700570825\t1.7625211561809886\n",
      "40\t215.84081241954118\t391.19266843795776\t1.7505172446802042\t1.818011752128601\n",
      "41\t220.91604275256395\t411.7276589870453\t1.6730699218485667\t1.7354527355974372\n",
      "42\t226.53640840388834\t383.5886664390564\t1.8919723369721053\t2.0080228031765333\n",
      "43\t232.14384548179805\t390.6927020549774\t1.716752285650675\t1.7787138447761535\n",
      "44\t237.34180436562747\t375.12112832069397\t1.6640320458057998\t1.7429564692323858\n",
      "45\t243.02387423347682\t365.512451171875\t1.6607143743962482\t1.708883222103119\n",
      "46\t248.35180149786174\t352.9270040988922\t1.644769807116709\t1.6836931057409807\n",
      "47\t253.89388466533273\t351.2777032852173\t1.6483898703818736\t1.6921925119053234\n",
      "48\t259.2652907092124\t364.2471990585327\t1.6138305779600488\t1.6894176737178457\n",
      "49\t264.44070082437247\t344.7919418811798\t1.6983057557456736\t1.7318504235094243\n",
      "50\t269.162740489468\t346.66835737228394\t1.6134075533220733\t1.69376658708399\n",
      "51\t274.1936403941363\t331.28658509254456\t1.5809897677837939\t1.6301177871444008\n",
      "52\t279.60784624144435\t332.4558787345886\t1.5965097493667533\t1.645010236306624\n",
      "53\t285.78109420184046\t331.86212849617004\t1.6181576139685037\t1.6889418990828775\n",
      "54\t291.302297282964\t326.65699768066406\t1.5836814422754273\t1.6502866313890978\n",
      "55\t296.6159426039085\t326.7218996286392\t1.562871054570744\t1.6590286271355368\n",
      "56\t301.7549809059128\t324.71070194244385\t1.5940878887971242\t1.65766106263074\n",
      "57\t307.51933851186186\t319.49689269065857\t1.5380902835640355\t1.6185378944657065\n",
      "58\t313.0642240354791\t312.3823883533478\t1.6291338210736497\t1.746062146316875\n",
      "59\t318.864717467688\t325.34222412109375\t1.5120855942368507\t1.6245167867487127\n",
      "60\t324.4398527238518\t324.9495244026184\t1.6537438778989557\t1.721343553282998\n",
      "61\t330.0935528287664\t313.2962999343872\t1.62003295901029\t1.677060249220241\n",
      "62\t335.3821263499558\t317.6764991283417\t1.6137359713514645\t1.6539198672988198\n",
      "63\t340.8827849198133\t308.8249719142914\t1.5735284325437269\t1.6432466965588657\n",
      "64\t346.49131496530026\t305.9368636608124\t1.5180587098002434\t1.6057727347937498\n",
      "65\t351.7217751238495\t289.88184571266174\t1.5297685817855855\t1.6163255889632484\n",
      "66\t357.2995355753228\t294.1998896598816\t1.4700007020779278\t1.580163946910338\n",
      "67\t362.73760002758354\t296.45874071121216\t1.594980559055356\t1.7816746037439866\n",
      "68\t368.1374247344211\t306.98537397384644\t1.4725952917251035\t1.6001601775126024\n",
      "69\t373.7358035854995\t289.5785005092621\t1.4846044169819874\t1.650564634843306\n",
      "70\t378.77736213896424\t299.2470510005951\t1.436324406253255\t1.56556887940927\n",
      "71\t384.2438064739108\t285.7883689403534\t1.4456382532050644\t1.564917600371621\n",
      "72\t389.41273024119437\t283.1502170562744\t1.4251215094025584\t1.568329597603191\n",
      "73\t394.61561781540513\t286.8745424747467\t1.5271978993778643\t1.6266027029861103\n",
      "74\t399.7717162212357\t287.26278299093246\t1.5400831056893736\t1.6510290722413496\n",
      "75\t404.9720266489312\t276.9746034145355\t1.4393911159772803\t1.5578601766066118\n",
      "76\t410.43490288965404\t275.37525939941406\t1.4836489317425783\t1.592870439746163\n",
      "77\t416.3370838165283\t276.2619483470917\t1.4185583863029445\t1.5567363984909925\n",
      "78\t421.4630280751735\t276.4127415418625\t1.5105988817370457\t1.615861579613252\n",
      "79\t425.99344898946583\t272.649209022522\t1.4701662178056827\t1.6404247992038727\n",
      "80\t430.93690942041576\t277.21660804748535\t1.4259484215922977\t1.5555706293041056\n",
      "81\t436.24362430535257\t262.8222780227661\t1.4258018466441527\t1.5514221907528964\n",
      "82\t441.786275183782\t268.53377199172974\t1.4200469078361124\t1.5800176027904858\n",
      "^C\n",
      "Traceback (most recent call last):\n",
      "  File \"train.py\", line 84, in <module>\n",
      "    prediction_test = tester.test_regressor(dataset_test)\n",
      "  File \"/home/zhang/elix/gnn/main/models.py\", line 170, in test_regressor\n",
      "    predicted_values, correct_values = self.model.forward_regressor(\n",
      "  File \"/home/zhang/elix/gnn/main/models.py\", line 119, in forward_regressor\n",
      "    predicted_values = self.mlp(molecular_vectors)\n",
      "  File \"/home/zhang/elix/gnn/main/models.py\", line 83, in mlp\n",
      "    vectors = torch.relu(self.W_output[l](vectors))\n",
      "  File \"/home/zhang/anaconda3/envs/rxtree1/lib/python3.8/site-packages/torch/nn/modules/module.py\", line 889, in _call_impl\n",
      "    result = self.forward(*input, **kwargs)\n",
      "  File \"/home/zhang/anaconda3/envs/rxtree1/lib/python3.8/site-packages/torch/nn/modules/linear.py\", line 94, in forward\n",
      "    return F.linear(input, self.weight, self.bias)\n",
      "  File \"/home/zhang/anaconda3/envs/rxtree1/lib/python3.8/site-packages/torch/nn/functional.py\", line 1753, in linear\n",
      "    return torch._C._nn.linear(input, weight, bias)\n",
      "KeyboardInterrupt\n"
     ]
    }
   ],
   "source": [
    "%cd $cwd\n",
    "%cd gnn/main\n",
    "!python train.py"
   ]
  },
  {
   "cell_type": "markdown",
   "metadata": {},
   "source": [
    "## Load model"
   ]
  },
  {
   "cell_type": "code",
   "execution_count": 27,
   "metadata": {},
   "outputs": [
    {
     "name": "stdout",
     "output_type": "stream",
     "text": [
      "/home/zhang/elix\n",
      "load atom\n",
      "load bond\n",
      "load fp\n",
      "load edge\n"
     ]
    },
    {
     "data": {
      "text/plain": [
       "MolecularGraphNeuralNetwork(\n",
       "  (embed_fingerprint): Embedding(10000, 50)\n",
       "  (W_fingerprint): ModuleList(\n",
       "    (0): Linear(in_features=50, out_features=50, bias=True)\n",
       "    (1): Linear(in_features=50, out_features=50, bias=True)\n",
       "    (2): Linear(in_features=50, out_features=50, bias=True)\n",
       "    (3): Linear(in_features=50, out_features=50, bias=True)\n",
       "    (4): Linear(in_features=50, out_features=50, bias=True)\n",
       "    (5): Linear(in_features=50, out_features=50, bias=True)\n",
       "  )\n",
       "  (W_output): ModuleList(\n",
       "    (0): Linear(in_features=50, out_features=50, bias=True)\n",
       "    (1): Linear(in_features=50, out_features=50, bias=True)\n",
       "    (2): Linear(in_features=50, out_features=50, bias=True)\n",
       "    (3): Linear(in_features=50, out_features=50, bias=True)\n",
       "    (4): Linear(in_features=50, out_features=50, bias=True)\n",
       "    (5): Linear(in_features=50, out_features=50, bias=True)\n",
       "  )\n",
       "  (W_property): Linear(in_features=50, out_features=1, bias=True)\n",
       ")"
      ]
     },
     "execution_count": 27,
     "metadata": {},
     "output_type": "execute_result"
    }
   ],
   "source": [
    "import gnn.main.predict as predict\n",
    "import gnn.main.config as config\n",
    "import gnn.main.models as models\n",
    "\n",
    "%cd $cwd\n",
    "gnn_model = models.MolecularGraphNeuralNetwork(10000, config.dim, config.layer_hidden, config.layer_output)\n",
    "gnn_model.load_state_dict(torch.load('gnn/model/sd200_gnn.pth'))\n",
    "dicts = predict.load_gnn_dicts('gnn/main/')\n",
    "gnn_model.to(config.device)\n",
    "#gnn_model = predict.load_gnn_model('gnn/model/200_gnn.pth', config.device)"
   ]
  },
  {
   "cell_type": "markdown",
   "metadata": {},
   "source": [
    "## Run Testing"
   ]
  },
  {
   "cell_type": "code",
   "execution_count": 33,
   "metadata": {},
   "outputs": [
    {
     "name": "stdout",
     "output_type": "stream",
     "text": [
      "CCCC | 9.877759\n"
     ]
    }
   ],
   "source": [
    "test_smiles = 'CCCC'\n",
    "res = predict.predict_vec(gnn_model,'regression',\n",
    "                          'gnn/dataset/regression/erbb1_clean_log_ic50/', 1, \n",
    "                          'erbb1_clean_log_ic50', config.device, [test_smiles], dicts)"
   ]
  },
  {
   "cell_type": "markdown",
   "metadata": {},
   "source": [
    "## Visualize Training Results"
   ]
  },
  {
   "cell_type": "code",
   "execution_count": 5,
   "metadata": {},
   "outputs": [],
   "source": [
    "df = pd.read_csv('gnn/output/result--test.txt', sep = '\\t')"
   ]
  },
  {
   "cell_type": "code",
   "execution_count": 6,
   "metadata": {},
   "outputs": [
    {
     "data": {
      "text/html": [
       "<div>\n",
       "<style scoped>\n",
       "    .dataframe tbody tr th:only-of-type {\n",
       "        vertical-align: middle;\n",
       "    }\n",
       "\n",
       "    .dataframe tbody tr th {\n",
       "        vertical-align: top;\n",
       "    }\n",
       "\n",
       "    .dataframe thead th {\n",
       "        text-align: right;\n",
       "    }\n",
       "</style>\n",
       "<table border=\"1\" class=\"dataframe\">\n",
       "  <thead>\n",
       "    <tr style=\"text-align: right;\">\n",
       "      <th></th>\n",
       "      <th>Epoch</th>\n",
       "      <th>Time(sec)</th>\n",
       "      <th>Loss_train</th>\n",
       "      <th>MAE_train</th>\n",
       "      <th>MAE_test</th>\n",
       "    </tr>\n",
       "  </thead>\n",
       "  <tbody>\n",
       "    <tr>\n",
       "      <th>0</th>\n",
       "      <td>1</td>\n",
       "      <td>5.403719</td>\n",
       "      <td>4219.664639</td>\n",
       "      <td>5.488271</td>\n",
       "      <td>5.770830</td>\n",
       "    </tr>\n",
       "    <tr>\n",
       "      <th>1</th>\n",
       "      <td>2</td>\n",
       "      <td>10.952668</td>\n",
       "      <td>2336.885392</td>\n",
       "      <td>3.563372</td>\n",
       "      <td>3.552437</td>\n",
       "    </tr>\n",
       "    <tr>\n",
       "      <th>2</th>\n",
       "      <td>3</td>\n",
       "      <td>16.600611</td>\n",
       "      <td>1387.334503</td>\n",
       "      <td>2.968859</td>\n",
       "      <td>3.003387</td>\n",
       "    </tr>\n",
       "    <tr>\n",
       "      <th>3</th>\n",
       "      <td>4</td>\n",
       "      <td>21.811553</td>\n",
       "      <td>1032.987999</td>\n",
       "      <td>2.692146</td>\n",
       "      <td>2.738769</td>\n",
       "    </tr>\n",
       "    <tr>\n",
       "      <th>4</th>\n",
       "      <td>5</td>\n",
       "      <td>27.149986</td>\n",
       "      <td>944.056887</td>\n",
       "      <td>2.580973</td>\n",
       "      <td>2.634069</td>\n",
       "    </tr>\n",
       "    <tr>\n",
       "      <th>...</th>\n",
       "      <td>...</td>\n",
       "      <td>...</td>\n",
       "      <td>...</td>\n",
       "      <td>...</td>\n",
       "      <td>...</td>\n",
       "    </tr>\n",
       "    <tr>\n",
       "      <th>195</th>\n",
       "      <td>196</td>\n",
       "      <td>1022.797606</td>\n",
       "      <td>170.654905</td>\n",
       "      <td>1.048338</td>\n",
       "      <td>1.396675</td>\n",
       "    </tr>\n",
       "    <tr>\n",
       "      <th>196</th>\n",
       "      <td>197</td>\n",
       "      <td>1028.371133</td>\n",
       "      <td>164.957431</td>\n",
       "      <td>1.134383</td>\n",
       "      <td>1.463959</td>\n",
       "    </tr>\n",
       "    <tr>\n",
       "      <th>197</th>\n",
       "      <td>198</td>\n",
       "      <td>1033.691420</td>\n",
       "      <td>160.250062</td>\n",
       "      <td>1.065702</td>\n",
       "      <td>1.434271</td>\n",
       "    </tr>\n",
       "    <tr>\n",
       "      <th>198</th>\n",
       "      <td>199</td>\n",
       "      <td>1039.857382</td>\n",
       "      <td>162.885215</td>\n",
       "      <td>1.124007</td>\n",
       "      <td>1.471956</td>\n",
       "    </tr>\n",
       "    <tr>\n",
       "      <th>199</th>\n",
       "      <td>200</td>\n",
       "      <td>1045.753633</td>\n",
       "      <td>162.272529</td>\n",
       "      <td>1.043430</td>\n",
       "      <td>1.412519</td>\n",
       "    </tr>\n",
       "  </tbody>\n",
       "</table>\n",
       "<p>200 rows × 5 columns</p>\n",
       "</div>"
      ],
      "text/plain": [
       "     Epoch    Time(sec)   Loss_train  MAE_train  MAE_test\n",
       "0        1     5.403719  4219.664639   5.488271  5.770830\n",
       "1        2    10.952668  2336.885392   3.563372  3.552437\n",
       "2        3    16.600611  1387.334503   2.968859  3.003387\n",
       "3        4    21.811553  1032.987999   2.692146  2.738769\n",
       "4        5    27.149986   944.056887   2.580973  2.634069\n",
       "..     ...          ...          ...        ...       ...\n",
       "195    196  1022.797606   170.654905   1.048338  1.396675\n",
       "196    197  1028.371133   164.957431   1.134383  1.463959\n",
       "197    198  1033.691420   160.250062   1.065702  1.434271\n",
       "198    199  1039.857382   162.885215   1.124007  1.471956\n",
       "199    200  1045.753633   162.272529   1.043430  1.412519\n",
       "\n",
       "[200 rows x 5 columns]"
      ]
     },
     "execution_count": 6,
     "metadata": {},
     "output_type": "execute_result"
    }
   ],
   "source": [
    "df"
   ]
  },
  {
   "cell_type": "code",
   "execution_count": 37,
   "metadata": {},
   "outputs": [],
   "source": [
    "import matplotlib.font_manager\n",
    "plt.rcParams['font.family'] = 'sans-serif'\n",
    "plt.rcParams['font.sans-serif'] = 'Helvetica'\n",
    "plt.rcParams['axes.edgecolor']='#333F4B'\n",
    "plt.rcParams['axes.linewidth']=0.8\n",
    "plt.rcParams['xtick.color']='#333F4B'\n",
    "plt.rcParams['ytick.color']='#333F4B'"
   ]
  },
  {
   "cell_type": "code",
   "execution_count": 41,
   "metadata": {},
   "outputs": [
    {
     "data": {
      "image/png": "[encoded data removed]",
      "text/plain": [
       "<Figure size 960x720 with 1 Axes>"
      ]
     },
     "metadata": {
      "needs_background": "light"
     },
     "output_type": "display_data"
    }
   ],
   "source": [
    "plt.figure(figsize=(8, 6), dpi=120)\n",
    "ax = plt.gca()\n",
    "df.plot(kind='line',y='MAE_train',color='#007acc', ax=ax)\n",
    "df.plot(kind='line',y='MAE_test',color='red', ax=ax)\n",
    "#ax.xlabel(\"hi\")\n",
    "ax.set_xlabel('Epochs', fontsize = 12)\n",
    "ax.set_ylabel(\"MAE\", fontsize = 12)\n",
    "plt.title(\"Evolution of training and testing MAE for GNN training\")\n",
    "plt.show()"
   ]
  },
  {
   "cell_type": "code",
   "execution_count": 38,
   "metadata": {},
   "outputs": [],
   "source": []
  },
  {
   "cell_type": "code",
   "execution_count": null,
   "metadata": {},
   "outputs": [],
   "source": []
  }
 ],
 "metadata": {
  "kernelspec": {
   "display_name": "rxtree1",
   "language": "python",
   "name": "rxtree1"
  },
  "language_info": {
   "codemirror_mode": {
    "name": "ipython",
    "version": 3
   },
   "file_extension": ".py",
   "mimetype": "text/x-python",
   "name": "python",
   "nbconvert_exporter": "python",
   "pygments_lexer": "ipython3",
   "version": "3.8.11"
  }
 },
 "nbformat": 4,
 "nbformat_minor": 4
}
