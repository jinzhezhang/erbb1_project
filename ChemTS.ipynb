{
 "cells": [
  {
   "cell_type": "code",
   "execution_count": 1,
   "metadata": {},
   "outputs": [],
   "source": [
    "from rdkit import RDLogger\n",
    "RDLogger.DisableLog('rdApp.*') \n",
    "\n",
    "cwd = %pwd\n",
    "\n",
    "%load_ext autoreload\n",
    "%autoreload 2\n",
    "\n",
    "%matplotlib inline"
   ]
  },
  {
   "cell_type": "code",
   "execution_count": 9,
   "metadata": {},
   "outputs": [],
   "source": [
    "import pandas as pd\n",
    "import numpy as np\n",
    "import rdkit\n",
    "import matplotlib.pyplot as plt"
   ]
  },
  {
   "cell_type": "markdown",
   "metadata": {},
   "source": [
    "# Run Training"
   ]
  },
  {
   "cell_type": "code",
   "execution_count": 6,
   "metadata": {},
   "outputs": [
    {
     "name": "stdout",
     "output_type": "stream",
     "text": [
      "/home/zhang/elix\n",
      "/home/zhang/elix/Real-ChemTS/train_RNN\n"
     ]
    }
   ],
   "source": [
    "%cd $cwd\n",
    "%cd Real-ChemTS/train_RNN/\n",
    "%run train_RNN.py"
   ]
  },
  {
   "cell_type": "markdown",
   "metadata": {},
   "source": [
    "#### Note: After training, you need to copy the content of Real-ChemTS/train_val.txt into __main__ function, and replace the contain of val = [ ... ]. This is a long-time existing annoying point for ChemTS, I know. "
   ]
  },
  {
   "cell_type": "markdown",
   "metadata": {},
   "source": [
    "Here in training, we used 7111 selected smiles from ChEMBL dataset, to make the molecule generated similar to the ChEMBL dataset. Depends on our previous experiences, ChEMBL dataset for erbb1 contains molecules that are designed or related to erbb1 receptor, which makes its affinity distribution largly different with the other dataset. In another word, this set contains molecules that has a low ic50. Training on such dataset is desirable. \n",
    "\n",
    "\n",
    "However, the way I did the training (train directly on erbb1 dataset) is not optimal. The optimal solution should be: first train on a drug-like dataset such as ZINC drug-like, and then refine the training on erbb1 dataset.\n",
    "\n",
    "The reason is that, we should first train RNN to learn about different chemical grammar and substructure on a larger dataset, such as ZINC. And after that, we can refine the molecule generation by retraining several epochs on low ic50 molecule set.\n",
    "\n",
    "Only training on low ic50 molecule set will let the model miss several grammar or substructure that is uncommon in this dataset due to its size.\n",
    "\n",
    "Unfortuanatly due to timing issue, I am only able to proceed with this simple solution"
   ]
  },
  {
   "cell_type": "markdown",
   "metadata": {},
   "source": [
    "# Run Generation"
   ]
  },
  {
   "cell_type": "code",
   "execution_count": null,
   "metadata": {},
   "outputs": [],
   "source": [
    "%cd $cwd\n",
    "%cd Real-ChemTS/ChemTS\n",
    "%run mcts_logp.py"
   ]
  },
  {
   "cell_type": "markdown",
   "metadata": {},
   "source": [
    "# Visualization of generated distribution"
   ]
  },
  {
   "cell_type": "code",
   "execution_count": 41,
   "metadata": {},
   "outputs": [
    {
     "name": "stdout",
     "output_type": "stream",
     "text": [
      "/home/zhang/elix\n"
     ]
    }
   ],
   "source": [
    "%cd $cwd\n",
    "file_list = ['Real-ChemTS/data/chemts_eva_out_652.txt']\n",
    "for file in file_list:\n",
    "    smiles_dict = {}\n",
    "    chemts_score_list = []\n",
    "    chemts_smiles_list = []\n",
    "    unique = 0\n",
    "    valid = 0\n",
    "    total_line = 0\n",
    "    with open(file, 'r') as f:\n",
    "        for line in f.readlines():\n",
    "            if '|' in line:\n",
    "                total_line += 1\n",
    "                smiles, score = line.split('|')\n",
    "                if smiles not in smiles_dict:\n",
    "                    smiles_dict[smiles] = score\n",
    "                    unique += 1\n",
    "                if \"None\" not in score:\n",
    "                    chemts_score_list.append(float(score))\n",
    "                    chemts_smiles_list.append(smiles)\n",
    "                    valid += 1\n",
    "            elif 'None' in line:\n",
    "                total_line += 1"
   ]
  },
  {
   "cell_type": "code",
   "execution_count": 36,
   "metadata": {},
   "outputs": [
    {
     "data": {
      "image/png": "[encoded data removed]",
      "text/plain": [
       "<Figure size 960x720 with 1 Axes>"
      ]
     },
     "metadata": {
      "needs_background": "light"
     },
     "output_type": "display_data"
    }
   ],
   "source": [
    "\n",
    "chembl_df = pd.read_csv('rxngenerator/erbb1_log_50.csv', sep = ',', names = ['smiles', 'log_ic50'])\n",
    "\n",
    "file = 'rxngenerator/USPTO_res.txt'\n",
    "plt.figure(figsize=(8, 6), dpi=120)\n",
    "smiles_dict = {}\n",
    "score_list = []\n",
    "unique = 0\n",
    "valid = 0\n",
    "with open(file, 'r') as f:\n",
    "    for line in f.readlines():\n",
    "        if '|' in line:\n",
    "            smiles, score = line.split('|')\n",
    "            if smiles not in smiles_dict:\n",
    "                smiles_dict[smiles] = score\n",
    "                unique += 1\n",
    "            if \"None\" not in score:\n",
    "                score_list.append(float(score))\n",
    "with open(file, 'r') as f:\n",
    "    for line in f.readlines():\n",
    "        if '|' in line:\n",
    "            smiles, score = line.split('|')\n",
    "            if smiles not in smiles_dict:\n",
    "                smiles_dict[smiles] = score\n",
    "                unique += 1\n",
    "            if \"None\" not in score:\n",
    "                score_list.append(float(score))\n",
    "plt.hist(score_list, bins = 100, color = '#3498DB', alpha = 0.5, label = 'USPTO')\n",
    "plt.hist(chembl_df['log_ic50'],bins = 100, color = '#FA8072', alpha = 0.5, label = 'ChEMBL')\n",
    "plt.hist(chemts_score_list, bins = 100, color = '#1ABC9C', alpha = 0.5, label = 'ChemTS')\n",
    "plt.legend(loc = 'best')\n",
    "plt.xlabel('Log_ic50')\n",
    "plt.ylabel('Frequnce')\n",
    "plt.title('erbb1 distribution comparison (frequency)')\n",
    "plt.show()"
   ]
  },
  {
   "cell_type": "markdown",
   "metadata": {},
   "source": [
    "#### Desity plot:"
   ]
  },
  {
   "cell_type": "code",
   "execution_count": 37,
   "metadata": {
    "scrolled": false
   },
   "outputs": [
    {
     "data": {
      "image/png": "[encoded data removed]",
      "text/plain": [
       "<Figure size 960x720 with 1 Axes>"
      ]
     },
     "metadata": {
      "needs_background": "light"
     },
     "output_type": "display_data"
    }
   ],
   "source": [
    "plt.figure(figsize=(8, 6), dpi=120)\n",
    "plt.hist(score_list, bins = 100, color = '#3498DB', alpha = 0.5, label = 'USPTO', density = True)\n",
    "plt.hist(chembl_df['log_ic50'],bins = 100, color = '#FA8072', alpha = 0.5, label = 'ChEMBL', density = True)\n",
    "plt.hist(chemts_score_list, bins = 100, color = '#1ABC9C', alpha = 0.5, label = 'ChemTS', density = True)\n",
    "plt.legend(loc = 'best')\n",
    "plt.xlabel('log_ic50')\n",
    "plt.ylabel('Density')\n",
    "plt.title('erbb1 distribution comparison (density)')\n",
    "plt.show()"
   ]
  },
  {
   "cell_type": "markdown",
   "metadata": {},
   "source": [
    "# Top 10 Candidates"
   ]
  },
  {
   "cell_type": "code",
   "execution_count": 27,
   "metadata": {},
   "outputs": [],
   "source": [
    "candidate_df = pd.DataFrame({'smiles':chemts_smiles_list, 'log_ic50':chemts_score_list})\n",
    "candidate_df['ic50'] = np.exp(candidate_df['log_ic50'])"
   ]
  },
  {
   "cell_type": "code",
   "execution_count": 29,
   "metadata": {},
   "outputs": [
    {
     "data": {
      "text/html": [
       "<div>\n",
       "<style scoped>\n",
       "    .dataframe tbody tr th:only-of-type {\n",
       "        vertical-align: middle;\n",
       "    }\n",
       "\n",
       "    .dataframe tbody tr th {\n",
       "        vertical-align: top;\n",
       "    }\n",
       "\n",
       "    .dataframe thead th {\n",
       "        text-align: right;\n",
       "    }\n",
       "</style>\n",
       "<table border=\"1\" class=\"dataframe\">\n",
       "  <thead>\n",
       "    <tr style=\"text-align: right;\">\n",
       "      <th></th>\n",
       "      <th>smiles</th>\n",
       "      <th>log_ic50</th>\n",
       "      <th>ic50</th>\n",
       "    </tr>\n",
       "  </thead>\n",
       "  <tbody>\n",
       "    <tr>\n",
       "      <th>202</th>\n",
       "      <td>FC(OC)Cc1cc2ncnc(Nc3cccc(Br)c3)c2cc1OCCCn1ccnc1[N+](=O)[O-]</td>\n",
       "      <td>-0.934006</td>\n",
       "      <td>0.392976</td>\n",
       "    </tr>\n",
       "    <tr>\n",
       "      <th>218</th>\n",
       "      <td>O=Cc1cc2c(Nc3cccc(Br)c3)ncnc2cn1</td>\n",
       "      <td>-0.715218</td>\n",
       "      <td>0.489086</td>\n",
       "    </tr>\n",
       "    <tr>\n",
       "      <th>338</th>\n",
       "      <td>Brc1cc(Nc2ccc3ncnc(Nc4cccc(Br)c4)c3c2)ccc1Cl</td>\n",
       "      <td>-0.701835</td>\n",
       "      <td>0.495675</td>\n",
       "    </tr>\n",
       "    <tr>\n",
       "      <th>638</th>\n",
       "      <td>O=Cc1cc2ncnc(Nc3ccc(F)c(Cl)c3)c2cn1</td>\n",
       "      <td>-0.630862</td>\n",
       "      <td>0.532133</td>\n",
       "    </tr>\n",
       "    <tr>\n",
       "      <th>2</th>\n",
       "      <td>Fc1ncc2ncnc(Nc3cccc(Br)c3)c2n1</td>\n",
       "      <td>-0.593302</td>\n",
       "      <td>0.552500</td>\n",
       "    </tr>\n",
       "    <tr>\n",
       "      <th>501</th>\n",
       "      <td>FC(OC)Cc1cc2sc3c(Nc4cccc(Br)c4)ncnc3c2cc1.O</td>\n",
       "      <td>-0.526602</td>\n",
       "      <td>0.590608</td>\n",
       "    </tr>\n",
       "    <tr>\n",
       "      <th>365</th>\n",
       "      <td>O=Cc1cc2ncnc(Nc3cccc(F)c3)c2cn1</td>\n",
       "      <td>-0.446836</td>\n",
       "      <td>0.639649</td>\n",
       "    </tr>\n",
       "    <tr>\n",
       "      <th>563</th>\n",
       "      <td>FC(OC)Cc1cc2ncnc(Nc3cccc(Br)c3)c2cn1</td>\n",
       "      <td>-0.386476</td>\n",
       "      <td>0.679447</td>\n",
       "    </tr>\n",
       "    <tr>\n",
       "      <th>509</th>\n",
       "      <td>FC(OC)Cc1cc2c(Nc3cccc(Br)c3)ncnc2cn1</td>\n",
       "      <td>-0.339407</td>\n",
       "      <td>0.712193</td>\n",
       "    </tr>\n",
       "    <tr>\n",
       "      <th>549</th>\n",
       "      <td>FC(OC)Cc1cc2sc3c(Nc4cccc(Br)c4)ncnc3c2nc1.Cl</td>\n",
       "      <td>-0.337540</td>\n",
       "      <td>0.713523</td>\n",
       "    </tr>\n",
       "  </tbody>\n",
       "</table>\n",
       "</div>"
      ],
      "text/plain": [
       "                                                           smiles  log_ic50  \\\n",
       "202  FC(OC)Cc1cc2ncnc(Nc3cccc(Br)c3)c2cc1OCCCn1ccnc1[N+](=O)[O-]  -0.934006   \n",
       "218                             O=Cc1cc2c(Nc3cccc(Br)c3)ncnc2cn1  -0.715218   \n",
       "338                 Brc1cc(Nc2ccc3ncnc(Nc4cccc(Br)c4)c3c2)ccc1Cl  -0.701835   \n",
       "638                          O=Cc1cc2ncnc(Nc3ccc(F)c(Cl)c3)c2cn1  -0.630862   \n",
       "2                                 Fc1ncc2ncnc(Nc3cccc(Br)c3)c2n1  -0.593302   \n",
       "501                  FC(OC)Cc1cc2sc3c(Nc4cccc(Br)c4)ncnc3c2cc1.O  -0.526602   \n",
       "365                              O=Cc1cc2ncnc(Nc3cccc(F)c3)c2cn1  -0.446836   \n",
       "563                         FC(OC)Cc1cc2ncnc(Nc3cccc(Br)c3)c2cn1  -0.386476   \n",
       "509                         FC(OC)Cc1cc2c(Nc3cccc(Br)c3)ncnc2cn1  -0.339407   \n",
       "549                 FC(OC)Cc1cc2sc3c(Nc4cccc(Br)c4)ncnc3c2nc1.Cl  -0.337540   \n",
       "\n",
       "         ic50  \n",
       "202  0.392976  \n",
       "218  0.489086  \n",
       "338  0.495675  \n",
       "638  0.532133  \n",
       "2    0.552500  \n",
       "501  0.590608  \n",
       "365  0.639649  \n",
       "563  0.679447  \n",
       "509  0.712193  \n",
       "549  0.713523  "
      ]
     },
     "execution_count": 29,
     "metadata": {},
     "output_type": "execute_result"
    }
   ],
   "source": [
    "pd.set_option('display.max_colwidth', None)\n",
    "candidate_df.sort_values(by = ['log_ic50']).drop_duplicates(keep = 'first').head(10)"
   ]
  },
  {
   "cell_type": "markdown",
   "metadata": {},
   "source": [
    "# Uniqueness, Novolty and Validity"
   ]
  },
  {
   "cell_type": "code",
   "execution_count": 32,
   "metadata": {},
   "outputs": [
    {
     "name": "stdout",
     "output_type": "stream",
     "text": [
      "Uniqueness: 0.6309341500765697\n"
     ]
    }
   ],
   "source": [
    "print('Uniqueness:', len(candidate_df['smiles'].drop_duplicates()) / len(candidate_df))"
   ]
  },
  {
   "cell_type": "code",
   "execution_count": 33,
   "metadata": {},
   "outputs": [
    {
     "name": "stdout",
     "output_type": "stream",
     "text": [
      "Novolty: 1.0\n"
     ]
    }
   ],
   "source": [
    "novol_smiles_count = 0\n",
    "for smiles in chemts_smiles_list:\n",
    "    if smiles not in chembl_df['smiles'].values:\n",
    "        novol_smiles_count += 1\n",
    "\n",
    "print('Novolty:', novol_smiles_count / len(candidate_df))"
   ]
  },
  {
   "cell_type": "code",
   "execution_count": 42,
   "metadata": {
    "scrolled": true
   },
   "outputs": [
    {
     "name": "stdout",
     "output_type": "stream",
     "text": [
      "Validity: 0.6725025746652935\n"
     ]
    }
   ],
   "source": [
    "print('Validity:', valid / total_line)"
   ]
  },
  {
   "cell_type": "markdown",
   "metadata": {},
   "source": [
    "# Summary"
   ]
  },
  {
   "cell_type": "markdown",
   "metadata": {},
   "source": [
    "We believe ChemTS is the most effective generative model in terms of optimizing erbb1 affinity amoung all 3 models tested. However, the synthesizability of these generated molecules are still questionable. "
   ]
  }
 ],
 "metadata": {
  "kernelspec": {
   "display_name": "rxtree1",
   "language": "python",
   "name": "rxtree1"
  },
  "language_info": {
   "codemirror_mode": {
    "name": "ipython",
    "version": 3
   },
   "file_extension": ".py",
   "mimetype": "text/x-python",
   "name": "python",
   "nbconvert_exporter": "python",
   "pygments_lexer": "ipython3",
   "version": "3.8.11"
  }
 },
 "nbformat": 4,
 "nbformat_minor": 4
}
