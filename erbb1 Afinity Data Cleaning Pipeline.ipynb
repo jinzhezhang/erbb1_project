{
 "cells": [
  {
   "cell_type": "code",
   "execution_count": 1,
   "metadata": {},
   "outputs": [],
   "source": [
    "from rdkit import Chem\n",
    "from sklearn.model_selection import train_test_split\n",
    "\n",
    "import sklearn\n",
    "import pandas as pd\n",
    "import numpy as np\n",
    "import matplotlib.pyplot as plt"
   ]
  },
  {
   "cell_type": "markdown",
   "metadata": {},
   "source": [
    "Created by: Jinzhe Zhang, 2021/08/06\n",
    "\n",
    "# Part I. Get the big picture\n",
    "\n",
    "To process data, we first need to understand about data. \n",
    "\n",
    "I.1\n",
    "\n",
    "Read csv file download from ChEmBL: https://www.ebi.ac.uk/chembl/g/#search_results/all/query=erbB1"
   ]
  },
  {
   "cell_type": "code",
   "execution_count": 2,
   "metadata": {},
   "outputs": [],
   "source": [
    "df = pd.read_csv('chembl.csv', sep = ';')"
   ]
  },
  {
   "cell_type": "code",
   "execution_count": 3,
   "metadata": {},
   "outputs": [
    {
     "name": "stdout",
     "output_type": "stream",
     "text": [
      "<class 'pandas.core.frame.DataFrame'>\n",
      "RangeIndex: 14362 entries, 0 to 14361\n",
      "Data columns (total 45 columns):\n",
      " #   Column                      Non-Null Count  Dtype  \n",
      "---  ------                      --------------  -----  \n",
      " 0   Molecule ChEMBL ID          14362 non-null  object \n",
      " 1   Molecule Name               1884 non-null   object \n",
      " 2   Molecule Max Phase          14362 non-null  int64  \n",
      " 3   Molecular Weight            14362 non-null  object \n",
      " 4   #RO5 Violations             14362 non-null  object \n",
      " 5   AlogP                       14362 non-null  object \n",
      " 6   Compound Key                14362 non-null  object \n",
      " 7   Smiles                      14330 non-null  object \n",
      " 8   Standard Type               14362 non-null  object \n",
      " 9   Standard Relation           13038 non-null  object \n",
      " 10  Standard Value              13035 non-null  float64\n",
      " 11  Standard Units              13035 non-null  object \n",
      " 12  pChEMBL Value               10005 non-null  float64\n",
      " 13  Data Validity Comment       355 non-null    object \n",
      " 14  Comment                     1950 non-null   object \n",
      " 15  Uo Units                    13029 non-null  object \n",
      " 16  Ligand Efficiency BEI       8767 non-null   float64\n",
      " 17  Ligand Efficiency LE        8767 non-null   object \n",
      " 18  Ligand Efficiency LLE       8767 non-null   object \n",
      " 19  Ligand Efficiency SEI       8767 non-null   object \n",
      " 20  Potential Duplicate         14362 non-null  bool   \n",
      " 21  Assay ChEMBL ID             14362 non-null  object \n",
      " 22  Assay Description           14362 non-null  object \n",
      " 23  Assay Type                  14362 non-null  object \n",
      " 24  BAO Format ID               14362 non-null  object \n",
      " 25  BAO Label                   14362 non-null  object \n",
      " 26  Assay Organism              14362 non-null  object \n",
      " 27  Assay Tissue ChEMBL ID      14362 non-null  object \n",
      " 28  Assay Tissue Name           14362 non-null  object \n",
      " 29  Assay Cell Type             14362 non-null  object \n",
      " 30  Assay Subcellular Fraction  14362 non-null  object \n",
      " 31  Assay Parameters            3 non-null      object \n",
      " 32  Assay Variant Accession     1821 non-null   object \n",
      " 33  Assay Variant Mutation      1846 non-null   object \n",
      " 34  Target ChEMBL ID            14362 non-null  object \n",
      " 35  Target Name                 14362 non-null  object \n",
      " 36  Target Organism             14362 non-null  object \n",
      " 37  Target Type                 14362 non-null  object \n",
      " 38  Document ChEMBL ID          14362 non-null  object \n",
      " 39  Source ID                   14362 non-null  int64  \n",
      " 40  Source Description          14362 non-null  object \n",
      " 41  Document Journal            12114 non-null  object \n",
      " 42  Document Year               13485 non-null  float64\n",
      " 43  Cell ChEMBL ID              14362 non-null  object \n",
      " 44  Properties                  5 non-null      object \n",
      "dtypes: bool(1), float64(4), int64(2), object(38)\n",
      "memory usage: 4.8+ MB\n"
     ]
    }
   ],
   "source": [
    "df.info()"
   ]
  },
  {
   "cell_type": "markdown",
   "metadata": {},
   "source": [
    "I.2\n",
    "\n",
    "Although we have 44 different attributes, there are only a few needed our attention. \n",
    "\n",
    "For example, we need to check if the target protein and the target organism are what we are looking for."
   ]
  },
  {
   "cell_type": "code",
   "execution_count": 4,
   "metadata": {},
   "outputs": [
    {
     "data": {
      "text/plain": [
       "Epidermal growth factor receptor erbB1    14362\n",
       "Name: Target Name, dtype: int64"
      ]
     },
     "execution_count": 4,
     "metadata": {},
     "output_type": "execute_result"
    }
   ],
   "source": [
    "df['Target Name'].value_counts()"
   ]
  },
  {
   "cell_type": "code",
   "execution_count": 5,
   "metadata": {},
   "outputs": [
    {
     "data": {
      "text/plain": [
       "Homo sapiens    14362\n",
       "Name: Target Organism, dtype: int64"
      ]
     },
     "execution_count": 5,
     "metadata": {},
     "output_type": "execute_result"
    }
   ],
   "source": [
    "df['Target Organism'].value_counts()"
   ]
  },
  {
   "cell_type": "markdown",
   "metadata": {},
   "source": [
    "I.3\n",
    "\n",
    "We have also noticed that there are empty values in Standard Value (which is ic50, the property that we are interested in). Related to this study, if any of SMILES, Standard Value or Standard Units is missing, we would not be able to use the data, so we drop these lines."
   ]
  },
  {
   "cell_type": "code",
   "execution_count": 6,
   "metadata": {},
   "outputs": [],
   "source": [
    "df = df.dropna(subset = ['Standard Value','Smiles','Standard Units'])"
   ]
  },
  {
   "cell_type": "markdown",
   "metadata": {},
   "source": [
    "# Part II. Data cleaning"
   ]
  },
  {
   "cell_type": "markdown",
   "metadata": {},
   "source": [
    "<Strong> So far so good, but is there any problem hidden? </Strong>\n",
    "\n",
    "II.1\n",
    "    \n",
    "   \n",
    "We first want to check how the ic50 values are distributed across the dataset."
   ]
  },
  {
   "cell_type": "code",
   "execution_count": 7,
   "metadata": {},
   "outputs": [
    {
     "name": "stdout",
     "output_type": "stream",
     "text": [
      "count    1.302800e+04\n",
      "mean     3.112465e+04\n",
      "std      4.186223e+05\n",
      "min      3.000000e-03\n",
      "25%      2.200000e+01\n",
      "50%      2.400000e+02\n",
      "75%      5.000000e+03\n",
      "max      2.500000e+07\n",
      "Name: Standard Value, dtype: float64\n"
     ]
    },
    {
     "data": {
      "image/png": "[encoded data removed]",
      "text/plain": [
       "<Figure size 504x720 with 1 Axes>"
      ]
     },
     "metadata": {
      "needs_background": "light"
     },
     "output_type": "display_data"
    }
   ],
   "source": [
    "print(df['Standard Value'].describe())\n",
    "#df['Standard Value'].hist(bins = 100, figsize = (7,10))\n",
    "df['Standard Value'][df['Standard Value'] < 50000].hist(bins = 100, figsize = (7,10))\n",
    "plt.show()"
   ]
  },
  {
   "cell_type": "markdown",
   "metadata": {},
   "source": [
    "II.2\n",
    "\n",
    "We remark that the range of ic50 across multiple magnitude.\n",
    "\n",
    "Even if we zoom in to the range between 0 and 50000, the distribution of ic50 shows a clear tail-heavy shape, which is not idea for neural network to predict. \n",
    "\n",
    "Although there are studies related to improving regressor performance on a tail-heavy output distribution, an trivial workaround here could be apply logarithmic to the ic50 to reduce the interval of label data and reshape it into a bell-shape, which is easier to train for predictive models. "
   ]
  },
  {
   "cell_type": "code",
   "execution_count": 8,
   "metadata": {},
   "outputs": [],
   "source": [
    "df['tmp_logic50'] = np.log(df['Standard Value'])"
   ]
  },
  {
   "cell_type": "code",
   "execution_count": 9,
   "metadata": {},
   "outputs": [
    {
     "data": {
      "image/png": "[encoded data removed]",
      "text/plain": [
       "<Figure size 1080x720 with 2 Axes>"
      ]
     },
     "metadata": {
      "needs_background": "light"
     },
     "output_type": "display_data"
    }
   ],
   "source": [
    "df[['Standard Value', 'tmp_logic50']].hist(bins = 100, figsize = (15,10))\n",
    "plt.show()"
   ]
  },
  {
   "cell_type": "markdown",
   "metadata": {},
   "source": [
    "After np.log() the ic50 data is in a more reasonable range and a bell-shape distribution. Several peaks are quite high comparing to its adjacent ones because there are several values are more commonly involved such as 10000nM. \n",
    "\n",
    "II.3\n",
    "\n",
    "We also remark that there is one column called \"Standard Relation\" which contains either =, >(=), and <(=)"
   ]
  },
  {
   "cell_type": "code",
   "execution_count": 10,
   "metadata": {},
   "outputs": [
    {
     "data": {
      "text/plain": [
       "'='     10243\n",
       "'>'      1960\n",
       "'<'       726\n",
       "'<='       82\n",
       "'>>'       11\n",
       "'>='        5\n",
       "'~'         1\n",
       "Name: Standard Relation, dtype: int64"
      ]
     },
     "execution_count": 10,
     "metadata": {},
     "output_type": "execute_result"
    }
   ],
   "source": [
    "df['Standard Relation'].value_counts()"
   ]
  },
  {
   "cell_type": "markdown",
   "metadata": {},
   "source": [
    "Here, a strategic choice has to be made. The safest play is to remove all relations that is not \"equal\" because the value we get would not be an accurate value and are therefore toxic for the model. However, in this case, we work on a very limited amount of data, \"saving\" a maximum usable data is preferred. \n",
    "\n",
    "The strategy that I chose is: save all values with > (aka, true value > value shown in the dataset) if they are above 75% quantile of tmp_logic50m, also, save all values with < if they are below 25% quantile of tmp_logic50. \n",
    "\n",
    "The argument is that: if we know a candidate's true ic50 is smaller than a already small ic50 value, we can define it as \"good\" candidate, the only doute is whether it is \"commonly good\" or it is \"extremly good\". Same logit applies to values superior than 75% quantile as well, we know it is a bad candidate. So I chose to keep these data to enhance the performance of our predictive model."
   ]
  },
  {
   "cell_type": "code",
   "execution_count": 11,
   "metadata": {},
   "outputs": [],
   "source": [
    "ic50_quantile25 = df['tmp_logic50'].quantile(q = 0.25)"
   ]
  },
  {
   "cell_type": "code",
   "execution_count": 12,
   "metadata": {},
   "outputs": [],
   "source": [
    "ic50_quantile75 = df['tmp_logic50'].quantile(q = 0.75)"
   ]
  },
  {
   "cell_type": "code",
   "execution_count": 13,
   "metadata": {},
   "outputs": [
    {
     "data": {
      "text/plain": [
       "count    13028.000000\n",
       "mean         5.634711\n",
       "std          3.463563\n",
       "min         -5.809143\n",
       "25%          3.091042\n",
       "50%          5.480639\n",
       "75%          8.517193\n",
       "max         17.034386\n",
       "Name: tmp_logic50, dtype: float64"
      ]
     },
     "execution_count": 13,
     "metadata": {},
     "output_type": "execute_result"
    }
   ],
   "source": [
    "df['tmp_logic50'].describe()"
   ]
  },
  {
   "cell_type": "code",
   "execution_count": 14,
   "metadata": {},
   "outputs": [],
   "source": [
    "#Apply above described filter about relation and values.\n",
    "df = df[(df['Standard Relation'].str.contains('>')) & (df['tmp_logic50'] > ic50_quantile75) \n",
    "    |(df['Standard Relation'].str.contains('<')) & (df['tmp_logic50'] < ic50_quantile25)\n",
    "    |(df['Standard Relation'] == \"'='\")\n",
    "]"
   ]
  },
  {
   "cell_type": "code",
   "execution_count": 15,
   "metadata": {},
   "outputs": [],
   "source": [
    "#Exclude non-important columns\n",
    "df = df[['Molecule ChEMBL ID', 'Molecular Weight', 'Smiles', \n",
    "         'Standard Type', 'Standard Relation', 'Standard Value', \n",
    "         'Standard Units','tmp_logic50']]"
   ]
  },
  {
   "cell_type": "markdown",
   "metadata": {},
   "source": [
    "II.4\n",
    "\n",
    "One other attribute we need to pay attention is the Standard Unit, different units can not be sumbit into the same dataset."
   ]
  },
  {
   "cell_type": "code",
   "execution_count": 16,
   "metadata": {},
   "outputs": [
    {
     "data": {
      "text/plain": [
       "nM         11861\n",
       "ug.mL-1       63\n",
       "/uM            6\n",
       "Name: Standard Units, dtype: int64"
      ]
     },
     "execution_count": 16,
     "metadata": {},
     "output_type": "execute_result"
    }
   ],
   "source": [
    "df['Standard Units'].value_counts()"
   ]
  },
  {
   "cell_type": "markdown",
   "metadata": {},
   "source": [
    "We noticed that there are 3 different units used in the dataset, nM is the most commonly used so we try to convert other units into nM using molecular weight or just simple conversion."
   ]
  },
  {
   "cell_type": "code",
   "execution_count": 17,
   "metadata": {},
   "outputs": [],
   "source": [
    "nM_index = df['Standard Units'] == 'nM'\n",
    "muMol_index = df['Standard Units'] == '/uM'\n",
    "ugmL_index = df['Standard Units'] == 'ug.mL-1'"
   ]
  },
  {
   "cell_type": "code",
   "execution_count": 18,
   "metadata": {},
   "outputs": [
    {
     "name": "stdout",
     "output_type": "stream",
     "text": [
      "<class 'pandas.core.frame.DataFrame'>\n",
      "Int64Index: 11930 entries, 0 to 14361\n",
      "Data columns (total 9 columns):\n",
      " #   Column              Non-Null Count  Dtype  \n",
      "---  ------              --------------  -----  \n",
      " 0   Molecule ChEMBL ID  11930 non-null  object \n",
      " 1   Molecular Weight    11930 non-null  object \n",
      " 2   Smiles              11930 non-null  object \n",
      " 3   Standard Type       11930 non-null  object \n",
      " 4   Standard Relation   11930 non-null  object \n",
      " 5   Standard Value      11930 non-null  float64\n",
      " 6   Standard Units      11930 non-null  object \n",
      " 7   tmp_logic50         11930 non-null  float64\n",
      " 8   tmp_ic50            11861 non-null  float64\n",
      "dtypes: float64(3), object(6)\n",
      "memory usage: 932.0+ KB\n"
     ]
    }
   ],
   "source": [
    "df.loc[nM_index, 'tmp_ic50'] = df.loc[nM_index, 'Standard Value']\n",
    "df.info()"
   ]
  },
  {
   "cell_type": "code",
   "execution_count": 19,
   "metadata": {},
   "outputs": [
    {
     "name": "stdout",
     "output_type": "stream",
     "text": [
      "<class 'pandas.core.frame.DataFrame'>\n",
      "Int64Index: 11930 entries, 0 to 14361\n",
      "Data columns (total 9 columns):\n",
      " #   Column              Non-Null Count  Dtype  \n",
      "---  ------              --------------  -----  \n",
      " 0   Molecule ChEMBL ID  11930 non-null  object \n",
      " 1   Molecular Weight    11930 non-null  object \n",
      " 2   Smiles              11930 non-null  object \n",
      " 3   Standard Type       11930 non-null  object \n",
      " 4   Standard Relation   11930 non-null  object \n",
      " 5   Standard Value      11930 non-null  float64\n",
      " 6   Standard Units      11930 non-null  object \n",
      " 7   tmp_logic50         11930 non-null  float64\n",
      " 8   tmp_ic50            11924 non-null  float64\n",
      "dtypes: float64(3), object(6)\n",
      "memory usage: 932.0+ KB\n"
     ]
    }
   ],
   "source": [
    "df.loc[ugmL_index, 'tmp_ic50'] = df[ugmL_index]['Standard Value'] / df[ugmL_index]['Molecular Weight'].astype(float) * 10 ** 6\n",
    "df.info()"
   ]
  },
  {
   "cell_type": "code",
   "execution_count": 20,
   "metadata": {},
   "outputs": [
    {
     "name": "stdout",
     "output_type": "stream",
     "text": [
      "<class 'pandas.core.frame.DataFrame'>\n",
      "Int64Index: 11930 entries, 0 to 14361\n",
      "Data columns (total 9 columns):\n",
      " #   Column              Non-Null Count  Dtype  \n",
      "---  ------              --------------  -----  \n",
      " 0   Molecule ChEMBL ID  11930 non-null  object \n",
      " 1   Molecular Weight    11930 non-null  object \n",
      " 2   Smiles              11930 non-null  object \n",
      " 3   Standard Type       11930 non-null  object \n",
      " 4   Standard Relation   11930 non-null  object \n",
      " 5   Standard Value      11930 non-null  float64\n",
      " 6   Standard Units      11930 non-null  object \n",
      " 7   tmp_logic50         11930 non-null  float64\n",
      " 8   tmp_ic50            11930 non-null  float64\n",
      "dtypes: float64(3), object(6)\n",
      "memory usage: 932.0+ KB\n"
     ]
    }
   ],
   "source": [
    "df.loc[muMol_index, 'tmp_ic50'] = df.loc[muMol_index, 'Standard Value'].map(lambda x: x * 1000)\n",
    "df.info()"
   ]
  },
  {
   "cell_type": "code",
   "execution_count": 21,
   "metadata": {},
   "outputs": [],
   "source": [
    "#Refresh log ic50 using ic50 data with unified unit.\n",
    "df['tmp_logic50'] = np.log(df['tmp_ic50'])\n",
    "df = df.drop(columns =['tmp_ic50'])"
   ]
  },
  {
   "cell_type": "markdown",
   "metadata": {},
   "source": [
    "II.5\n",
    "\n",
    "Another issue could happen is that database contains duplicated molecule structure. So we give it a quick check."
   ]
  },
  {
   "cell_type": "code",
   "execution_count": 22,
   "metadata": {},
   "outputs": [
    {
     "data": {
      "text/plain": [
       "COc1cc2ncnc(Nc3ccc(F)c(Cl)c3)c2cc1OCCCN1CCOCC1                      165\n",
       "C#Cc1cccc(Nc2ncnc3cc(OCCOC)c(OCCOC)cc23)c1                           99\n",
       "C=CC(=O)Nc1cc(Nc2nccc(-c3cn(C)c4ccccc34)n2)c(OC)cc1N(C)CCN(C)C       95\n",
       "CN(C)C/C=C/C(=O)Nc1cc2c(Nc3ccc(F)c(Cl)c3)ncnc2cc1O[C@H]1CCOC1        47\n",
       "COc1cc2ncnc(Nc3cccc(Br)c3)c2cc1OC                                    43\n",
       "                                                                   ... \n",
       "CO[C@H](C)c1c(O)cc2c(c1O)C(=O)c1c(cc(O)c(O)c1O)C2=O                   1\n",
       "CN1CCN(CCCNc2ncc3cc(-c4c(Cl)cccc4Cl)c(NC(=O)NCc4ccccc4)nc3n2)CC1      1\n",
       "Cc1ncnc(Nc2ccc(OCc3cccc(F)c3)c(Cl)c2)c1C#Cc1ccc(CN2CCCC2)s1           1\n",
       "C=CC(=O)Nc1cc2c(Nc3ccc(Br)cc3F)ncnc2cc1OCCNC(=O)CN1CCN(C)CC1          1\n",
       "COc1ccc(-n2cnc3ccc(-c4nnc(SCc5cccc(C#N)c5)o4)cc32)cc1                 1\n",
       "Name: Smiles, Length: 7681, dtype: int64"
      ]
     },
     "execution_count": 22,
     "metadata": {},
     "output_type": "execute_result"
    }
   ],
   "source": [
    "df['Smiles'].value_counts()"
   ]
  },
  {
   "cell_type": "markdown",
   "metadata": {},
   "source": [
    "We noticed that there indeed has several smiles are duplicated. \n",
    "\n",
    "NOTE: Checking molecule duplicates by simply comparing smiles is a choice of simplicity. The rigorous strategy should be either 1) convert all smiles into rdkit mol object and then compare their Tanimoto distance, or 2) convert all smiles into cononical smiles and then compare smiles. \n",
    "\n",
    "In fact if we check the number of duplicates, it is quite significant."
   ]
  },
  {
   "cell_type": "code",
   "execution_count": 23,
   "metadata": {},
   "outputs": [
    {
     "data": {
      "text/plain": [
       "4249"
      ]
     },
     "execution_count": 23,
     "metadata": {},
     "output_type": "execute_result"
    }
   ],
   "source": [
    "len(df['Smiles'])-len(df['Smiles'].drop_duplicates())"
   ]
  },
  {
   "cell_type": "markdown",
   "metadata": {},
   "source": [
    "Also, if we look into the Standard Value of the same smiles, they could vary a lot."
   ]
  },
  {
   "cell_type": "code",
   "execution_count": 24,
   "metadata": {},
   "outputs": [
    {
     "data": {
      "text/html": [
       "<div>\n",
       "<style scoped>\n",
       "    .dataframe tbody tr th:only-of-type {\n",
       "        vertical-align: middle;\n",
       "    }\n",
       "\n",
       "    .dataframe tbody tr th {\n",
       "        vertical-align: top;\n",
       "    }\n",
       "\n",
       "    .dataframe thead th {\n",
       "        text-align: right;\n",
       "    }\n",
       "</style>\n",
       "<table border=\"1\" class=\"dataframe\">\n",
       "  <thead>\n",
       "    <tr style=\"text-align: right;\">\n",
       "      <th></th>\n",
       "      <th>Molecule ChEMBL ID</th>\n",
       "      <th>Molecular Weight</th>\n",
       "      <th>Smiles</th>\n",
       "      <th>Standard Type</th>\n",
       "      <th>Standard Relation</th>\n",
       "      <th>Standard Value</th>\n",
       "      <th>Standard Units</th>\n",
       "      <th>tmp_logic50</th>\n",
       "    </tr>\n",
       "  </thead>\n",
       "  <tbody>\n",
       "    <tr>\n",
       "      <th>269</th>\n",
       "      <td>CHEMBL3353410</td>\n",
       "      <td>499.62</td>\n",
       "      <td>C=CC(=O)Nc1cc(Nc2nccc(-c3cn(C)c4ccccc34)n2)c(O...</td>\n",
       "      <td>IC50</td>\n",
       "      <td>'='</td>\n",
       "      <td>15000.0</td>\n",
       "      <td>nM</td>\n",
       "      <td>9.615805</td>\n",
       "    </tr>\n",
       "    <tr>\n",
       "      <th>294</th>\n",
       "      <td>CHEMBL3353410</td>\n",
       "      <td>499.62</td>\n",
       "      <td>C=CC(=O)Nc1cc(Nc2nccc(-c3cn(C)c4ccccc34)n2)c(O...</td>\n",
       "      <td>IC50</td>\n",
       "      <td>'='</td>\n",
       "      <td>1.2</td>\n",
       "      <td>nM</td>\n",
       "      <td>0.182322</td>\n",
       "    </tr>\n",
       "    <tr>\n",
       "      <th>297</th>\n",
       "      <td>CHEMBL3353410</td>\n",
       "      <td>499.62</td>\n",
       "      <td>C=CC(=O)Nc1cc(Nc2nccc(-c3cn(C)c4ccccc34)n2)c(O...</td>\n",
       "      <td>IC50</td>\n",
       "      <td>'='</td>\n",
       "      <td>0.9</td>\n",
       "      <td>nM</td>\n",
       "      <td>-0.105361</td>\n",
       "    </tr>\n",
       "    <tr>\n",
       "      <th>587</th>\n",
       "      <td>CHEMBL3353410</td>\n",
       "      <td>499.62</td>\n",
       "      <td>C=CC(=O)Nc1cc(Nc2nccc(-c3cn(C)c4ccccc34)n2)c(O...</td>\n",
       "      <td>IC50</td>\n",
       "      <td>'='</td>\n",
       "      <td>142.1</td>\n",
       "      <td>nM</td>\n",
       "      <td>4.956531</td>\n",
       "    </tr>\n",
       "    <tr>\n",
       "      <th>801</th>\n",
       "      <td>CHEMBL3353410</td>\n",
       "      <td>499.62</td>\n",
       "      <td>C=CC(=O)Nc1cc(Nc2nccc(-c3cn(C)c4ccccc34)n2)c(O...</td>\n",
       "      <td>IC50</td>\n",
       "      <td>'='</td>\n",
       "      <td>408.5</td>\n",
       "      <td>nM</td>\n",
       "      <td>6.012492</td>\n",
       "    </tr>\n",
       "  </tbody>\n",
       "</table>\n",
       "</div>"
      ],
      "text/plain": [
       "    Molecule ChEMBL ID Molecular Weight  \\\n",
       "269      CHEMBL3353410           499.62   \n",
       "294      CHEMBL3353410           499.62   \n",
       "297      CHEMBL3353410           499.62   \n",
       "587      CHEMBL3353410           499.62   \n",
       "801      CHEMBL3353410           499.62   \n",
       "\n",
       "                                                Smiles Standard Type  \\\n",
       "269  C=CC(=O)Nc1cc(Nc2nccc(-c3cn(C)c4ccccc34)n2)c(O...          IC50   \n",
       "294  C=CC(=O)Nc1cc(Nc2nccc(-c3cn(C)c4ccccc34)n2)c(O...          IC50   \n",
       "297  C=CC(=O)Nc1cc(Nc2nccc(-c3cn(C)c4ccccc34)n2)c(O...          IC50   \n",
       "587  C=CC(=O)Nc1cc(Nc2nccc(-c3cn(C)c4ccccc34)n2)c(O...          IC50   \n",
       "801  C=CC(=O)Nc1cc(Nc2nccc(-c3cn(C)c4ccccc34)n2)c(O...          IC50   \n",
       "\n",
       "    Standard Relation  Standard Value Standard Units  tmp_logic50  \n",
       "269               '='         15000.0             nM     9.615805  \n",
       "294               '='             1.2             nM     0.182322  \n",
       "297               '='             0.9             nM    -0.105361  \n",
       "587               '='           142.1             nM     4.956531  \n",
       "801               '='           408.5             nM     6.012492  "
      ]
     },
     "execution_count": 24,
     "metadata": {},
     "output_type": "execute_result"
    }
   ],
   "source": [
    "df[df['Smiles'] == 'C=CC(=O)Nc1cc(Nc2nccc(-c3cn(C)c4ccccc34)n2)c(OC)cc1N(C)CCN(C)C'].head()"
   ]
  },
  {
   "cell_type": "markdown",
   "metadata": {},
   "source": [
    "My strategy here is to group data by smiles, compute the average of \"log ic50\" (not Standard Value because log(a+b) != log(a)+log(b), averaging Standard Value will make data lean to the high value end) and then select data if their standard deviation is NaN (no duplicates) or is less than 75% quantile of all std values. In another word, we eliminate top 25% of the most inconsistent data. "
   ]
  },
  {
   "cell_type": "code",
   "execution_count": 25,
   "metadata": {},
   "outputs": [],
   "source": [
    "mean_df = df.groupby([\n",
    "    'Smiles', \n",
    "    'Standard Type',\n",
    "    #'Standard Relation',\n",
    "    #'Standard Units',\n",
    "    'Molecule ChEMBL ID', \n",
    "    'Molecular Weight', \n",
    "], as_index=False).mean().drop(columns = ['Standard Value'])"
   ]
  },
  {
   "cell_type": "code",
   "execution_count": 26,
   "metadata": {},
   "outputs": [],
   "source": [
    "std_df = df.groupby([\n",
    "    'Smiles', \n",
    "    'Standard Type',\n",
    "    #'Standard Relation',\n",
    "    #'Standard Units',\n",
    "    'Molecule ChEMBL ID', \n",
    "    'Molecular Weight', \n",
    "], as_index=False).std().drop(columns = ['Standard Value'])"
   ]
  },
  {
   "cell_type": "code",
   "execution_count": 27,
   "metadata": {},
   "outputs": [
    {
     "data": {
      "text/html": [
       "<div>\n",
       "<style scoped>\n",
       "    .dataframe tbody tr th:only-of-type {\n",
       "        vertical-align: middle;\n",
       "    }\n",
       "\n",
       "    .dataframe tbody tr th {\n",
       "        vertical-align: top;\n",
       "    }\n",
       "\n",
       "    .dataframe thead th {\n",
       "        text-align: right;\n",
       "    }\n",
       "</style>\n",
       "<table border=\"1\" class=\"dataframe\">\n",
       "  <thead>\n",
       "    <tr style=\"text-align: right;\">\n",
       "      <th></th>\n",
       "      <th>Smiles</th>\n",
       "      <th>Standard Type</th>\n",
       "      <th>Molecule ChEMBL ID</th>\n",
       "      <th>Molecular Weight</th>\n",
       "      <th>tmp_logic50</th>\n",
       "    </tr>\n",
       "  </thead>\n",
       "  <tbody>\n",
       "    <tr>\n",
       "      <th>7354</th>\n",
       "      <td>O=CN/C=C/c1cc(O)ccc1O</td>\n",
       "      <td>IC50</td>\n",
       "      <td>CHEMBL47986</td>\n",
       "      <td>179.18</td>\n",
       "      <td>8.040209</td>\n",
       "    </tr>\n",
       "  </tbody>\n",
       "</table>\n",
       "</div>"
      ],
      "text/plain": [
       "                     Smiles Standard Type Molecule ChEMBL ID Molecular Weight  \\\n",
       "7354  O=CN/C=C/c1cc(O)ccc1O          IC50        CHEMBL47986           179.18   \n",
       "\n",
       "      tmp_logic50  \n",
       "7354     8.040209  "
      ]
     },
     "execution_count": 27,
     "metadata": {},
     "output_type": "execute_result"
    }
   ],
   "source": [
    "mean_df[mean_df['Smiles'] == 'O=CN/C=C/c1cc(O)ccc1O']"
   ]
  },
  {
   "cell_type": "code",
   "execution_count": 28,
   "metadata": {},
   "outputs": [
    {
     "data": {
      "text/html": [
       "<div>\n",
       "<style scoped>\n",
       "    .dataframe tbody tr th:only-of-type {\n",
       "        vertical-align: middle;\n",
       "    }\n",
       "\n",
       "    .dataframe tbody tr th {\n",
       "        vertical-align: top;\n",
       "    }\n",
       "\n",
       "    .dataframe thead th {\n",
       "        text-align: right;\n",
       "    }\n",
       "</style>\n",
       "<table border=\"1\" class=\"dataframe\">\n",
       "  <thead>\n",
       "    <tr style=\"text-align: right;\">\n",
       "      <th></th>\n",
       "      <th>Molecule ChEMBL ID</th>\n",
       "      <th>Molecular Weight</th>\n",
       "      <th>Smiles</th>\n",
       "      <th>Standard Type</th>\n",
       "      <th>Standard Relation</th>\n",
       "      <th>Standard Value</th>\n",
       "      <th>Standard Units</th>\n",
       "      <th>tmp_logic50</th>\n",
       "    </tr>\n",
       "  </thead>\n",
       "  <tbody>\n",
       "    <tr>\n",
       "      <th>9268</th>\n",
       "      <td>CHEMBL2087357</td>\n",
       "      <td>418.32</td>\n",
       "      <td>Brc1cccc(Nc2ncnc3cc4c(cc23)OCCSCCO4)c1</td>\n",
       "      <td>IC50</td>\n",
       "      <td>'='</td>\n",
       "      <td>7.0</td>\n",
       "      <td>nM</td>\n",
       "      <td>1.94591</td>\n",
       "    </tr>\n",
       "  </tbody>\n",
       "</table>\n",
       "</div>"
      ],
      "text/plain": [
       "     Molecule ChEMBL ID Molecular Weight  \\\n",
       "9268      CHEMBL2087357           418.32   \n",
       "\n",
       "                                      Smiles Standard Type Standard Relation  \\\n",
       "9268  Brc1cccc(Nc2ncnc3cc4c(cc23)OCCSCCO4)c1          IC50               '='   \n",
       "\n",
       "      Standard Value Standard Units  tmp_logic50  \n",
       "9268             7.0             nM      1.94591  "
      ]
     },
     "execution_count": 28,
     "metadata": {},
     "output_type": "execute_result"
    }
   ],
   "source": [
    "df[df['Smiles'] == 'Brc1cccc(Nc2ncnc3cc4c(cc23)OCCSCCO4)c1']"
   ]
  },
  {
   "cell_type": "code",
   "execution_count": 29,
   "metadata": {},
   "outputs": [
    {
     "data": {
      "text/html": [
       "<div>\n",
       "<style scoped>\n",
       "    .dataframe tbody tr th:only-of-type {\n",
       "        vertical-align: middle;\n",
       "    }\n",
       "\n",
       "    .dataframe tbody tr th {\n",
       "        vertical-align: top;\n",
       "    }\n",
       "\n",
       "    .dataframe thead th {\n",
       "        text-align: right;\n",
       "    }\n",
       "</style>\n",
       "<table border=\"1\" class=\"dataframe\">\n",
       "  <thead>\n",
       "    <tr style=\"text-align: right;\">\n",
       "      <th></th>\n",
       "      <th>Smiles</th>\n",
       "      <th>Standard Type</th>\n",
       "      <th>Molecule ChEMBL ID</th>\n",
       "      <th>Molecular Weight</th>\n",
       "      <th>tmp_logic50</th>\n",
       "    </tr>\n",
       "  </thead>\n",
       "  <tbody>\n",
       "    <tr>\n",
       "      <th>0</th>\n",
       "      <td>Br.CC(Nc1ncnc2[nH]c(-c3ccc(O)cc3)cc12)c1ccc(C(...</td>\n",
       "      <td>IC50</td>\n",
       "      <td>CHEMBL1914657</td>\n",
       "      <td>479.30</td>\n",
       "      <td>8.435549</td>\n",
       "    </tr>\n",
       "    <tr>\n",
       "      <th>1</th>\n",
       "      <td>Br.CC(Nc1ncnc2[nH]c(-c3ccc(O)cc3)cc12)c1cccc2c...</td>\n",
       "      <td>IC50</td>\n",
       "      <td>CHEMBL1914666</td>\n",
       "      <td>461.36</td>\n",
       "      <td>6.915723</td>\n",
       "    </tr>\n",
       "    <tr>\n",
       "      <th>2</th>\n",
       "      <td>Br.CC[C@@H](Nc1ncnc2[nH]c(-c3ccc(O)cc3)cc12)c1...</td>\n",
       "      <td>IC50</td>\n",
       "      <td>CHEMBL1914665</td>\n",
       "      <td>425.33</td>\n",
       "      <td>1.386294</td>\n",
       "    </tr>\n",
       "    <tr>\n",
       "      <th>3</th>\n",
       "      <td>Br.C[C@@H](Nc1ncnc2[nH]c(-c3ccc(O)cc3)cc12)c1c...</td>\n",
       "      <td>IC50</td>\n",
       "      <td>CHEMBL1914655</td>\n",
       "      <td>490.20</td>\n",
       "      <td>4.127134</td>\n",
       "    </tr>\n",
       "    <tr>\n",
       "      <th>4</th>\n",
       "      <td>Br.C[C@@H](Nc1ncnc2[nH]c(-c3ccc(O)cc3)cc12)c1c...</td>\n",
       "      <td>IC50</td>\n",
       "      <td>CHEMBL1914654</td>\n",
       "      <td>429.29</td>\n",
       "      <td>1.335001</td>\n",
       "    </tr>\n",
       "  </tbody>\n",
       "</table>\n",
       "</div>"
      ],
      "text/plain": [
       "                                              Smiles Standard Type  \\\n",
       "0  Br.CC(Nc1ncnc2[nH]c(-c3ccc(O)cc3)cc12)c1ccc(C(...          IC50   \n",
       "1  Br.CC(Nc1ncnc2[nH]c(-c3ccc(O)cc3)cc12)c1cccc2c...          IC50   \n",
       "2  Br.CC[C@@H](Nc1ncnc2[nH]c(-c3ccc(O)cc3)cc12)c1...          IC50   \n",
       "3  Br.C[C@@H](Nc1ncnc2[nH]c(-c3ccc(O)cc3)cc12)c1c...          IC50   \n",
       "4  Br.C[C@@H](Nc1ncnc2[nH]c(-c3ccc(O)cc3)cc12)c1c...          IC50   \n",
       "\n",
       "  Molecule ChEMBL ID Molecular Weight  tmp_logic50  \n",
       "0      CHEMBL1914657           479.30     8.435549  \n",
       "1      CHEMBL1914666           461.36     6.915723  \n",
       "2      CHEMBL1914665           425.33     1.386294  \n",
       "3      CHEMBL1914655           490.20     4.127134  \n",
       "4      CHEMBL1914654           429.29     1.335001  "
      ]
     },
     "execution_count": 29,
     "metadata": {},
     "output_type": "execute_result"
    }
   ],
   "source": [
    "mean_df.head()"
   ]
  },
  {
   "cell_type": "code",
   "execution_count": 30,
   "metadata": {},
   "outputs": [
    {
     "data": {
      "text/html": [
       "<div>\n",
       "<style scoped>\n",
       "    .dataframe tbody tr th:only-of-type {\n",
       "        vertical-align: middle;\n",
       "    }\n",
       "\n",
       "    .dataframe tbody tr th {\n",
       "        vertical-align: top;\n",
       "    }\n",
       "\n",
       "    .dataframe thead th {\n",
       "        text-align: right;\n",
       "    }\n",
       "</style>\n",
       "<table border=\"1\" class=\"dataframe\">\n",
       "  <thead>\n",
       "    <tr style=\"text-align: right;\">\n",
       "      <th></th>\n",
       "      <th>Smiles</th>\n",
       "      <th>Standard Type</th>\n",
       "      <th>Molecule ChEMBL ID</th>\n",
       "      <th>Molecular Weight</th>\n",
       "      <th>tmp_logic50</th>\n",
       "    </tr>\n",
       "  </thead>\n",
       "  <tbody>\n",
       "    <tr>\n",
       "      <th>0</th>\n",
       "      <td>Br.CC(Nc1ncnc2[nH]c(-c3ccc(O)cc3)cc12)c1ccc(C(...</td>\n",
       "      <td>IC50</td>\n",
       "      <td>CHEMBL1914657</td>\n",
       "      <td>479.30</td>\n",
       "      <td>NaN</td>\n",
       "    </tr>\n",
       "    <tr>\n",
       "      <th>1</th>\n",
       "      <td>Br.CC(Nc1ncnc2[nH]c(-c3ccc(O)cc3)cc12)c1cccc2c...</td>\n",
       "      <td>IC50</td>\n",
       "      <td>CHEMBL1914666</td>\n",
       "      <td>461.36</td>\n",
       "      <td>NaN</td>\n",
       "    </tr>\n",
       "    <tr>\n",
       "      <th>2</th>\n",
       "      <td>Br.CC[C@@H](Nc1ncnc2[nH]c(-c3ccc(O)cc3)cc12)c1...</td>\n",
       "      <td>IC50</td>\n",
       "      <td>CHEMBL1914665</td>\n",
       "      <td>425.33</td>\n",
       "      <td>NaN</td>\n",
       "    </tr>\n",
       "    <tr>\n",
       "      <th>3</th>\n",
       "      <td>Br.C[C@@H](Nc1ncnc2[nH]c(-c3ccc(O)cc3)cc12)c1c...</td>\n",
       "      <td>IC50</td>\n",
       "      <td>CHEMBL1914655</td>\n",
       "      <td>490.20</td>\n",
       "      <td>NaN</td>\n",
       "    </tr>\n",
       "    <tr>\n",
       "      <th>4</th>\n",
       "      <td>Br.C[C@@H](Nc1ncnc2[nH]c(-c3ccc(O)cc3)cc12)c1c...</td>\n",
       "      <td>IC50</td>\n",
       "      <td>CHEMBL1914654</td>\n",
       "      <td>429.29</td>\n",
       "      <td>NaN</td>\n",
       "    </tr>\n",
       "  </tbody>\n",
       "</table>\n",
       "</div>"
      ],
      "text/plain": [
       "                                              Smiles Standard Type  \\\n",
       "0  Br.CC(Nc1ncnc2[nH]c(-c3ccc(O)cc3)cc12)c1ccc(C(...          IC50   \n",
       "1  Br.CC(Nc1ncnc2[nH]c(-c3ccc(O)cc3)cc12)c1cccc2c...          IC50   \n",
       "2  Br.CC[C@@H](Nc1ncnc2[nH]c(-c3ccc(O)cc3)cc12)c1...          IC50   \n",
       "3  Br.C[C@@H](Nc1ncnc2[nH]c(-c3ccc(O)cc3)cc12)c1c...          IC50   \n",
       "4  Br.C[C@@H](Nc1ncnc2[nH]c(-c3ccc(O)cc3)cc12)c1c...          IC50   \n",
       "\n",
       "  Molecule ChEMBL ID Molecular Weight  tmp_logic50  \n",
       "0      CHEMBL1914657           479.30          NaN  \n",
       "1      CHEMBL1914666           461.36          NaN  \n",
       "2      CHEMBL1914665           425.33          NaN  \n",
       "3      CHEMBL1914655           490.20          NaN  \n",
       "4      CHEMBL1914654           429.29          NaN  "
      ]
     },
     "execution_count": 30,
     "metadata": {},
     "output_type": "execute_result"
    }
   ],
   "source": [
    "std_df.head()"
   ]
  },
  {
   "cell_type": "code",
   "execution_count": 31,
   "metadata": {},
   "outputs": [
    {
     "data": {
      "text/plain": [
       "count    2278.000000\n",
       "mean        1.315690\n",
       "std         1.179979\n",
       "min         0.000000\n",
       "25%         0.248739\n",
       "50%         1.113837\n",
       "75%         2.046835\n",
       "max         7.109471\n",
       "Name: tmp_logic50, dtype: float64"
      ]
     },
     "execution_count": 31,
     "metadata": {},
     "output_type": "execute_result"
    }
   ],
   "source": [
    "std_df['tmp_logic50'].dropna().describe()"
   ]
  },
  {
   "cell_type": "code",
   "execution_count": 32,
   "metadata": {},
   "outputs": [],
   "source": [
    "std_quantile75 = std_df['tmp_logic50'].quantile(q = 0.75)"
   ]
  },
  {
   "cell_type": "code",
   "execution_count": 33,
   "metadata": {},
   "outputs": [],
   "source": [
    "cleaned_df = mean_df[(std_df['tmp_logic50'].isnull()) | (std_df['tmp_logic50'] < std_quantile75)]"
   ]
  },
  {
   "cell_type": "code",
   "execution_count": 34,
   "metadata": {},
   "outputs": [],
   "source": [
    "cleaned_df = cleaned_df.rename(columns = {'tmp_logic50': 'log_ic_50'})"
   ]
  },
  {
   "cell_type": "code",
   "execution_count": 35,
   "metadata": {},
   "outputs": [
    {
     "data": {
      "text/html": [
       "<div>\n",
       "<style scoped>\n",
       "    .dataframe tbody tr th:only-of-type {\n",
       "        vertical-align: middle;\n",
       "    }\n",
       "\n",
       "    .dataframe tbody tr th {\n",
       "        vertical-align: top;\n",
       "    }\n",
       "\n",
       "    .dataframe thead th {\n",
       "        text-align: right;\n",
       "    }\n",
       "</style>\n",
       "<table border=\"1\" class=\"dataframe\">\n",
       "  <thead>\n",
       "    <tr style=\"text-align: right;\">\n",
       "      <th></th>\n",
       "      <th>Smiles</th>\n",
       "      <th>Standard Type</th>\n",
       "      <th>Molecule ChEMBL ID</th>\n",
       "      <th>Molecular Weight</th>\n",
       "      <th>log_ic_50</th>\n",
       "    </tr>\n",
       "  </thead>\n",
       "  <tbody>\n",
       "    <tr>\n",
       "      <th>0</th>\n",
       "      <td>Br.CC(Nc1ncnc2[nH]c(-c3ccc(O)cc3)cc12)c1ccc(C(...</td>\n",
       "      <td>IC50</td>\n",
       "      <td>CHEMBL1914657</td>\n",
       "      <td>479.30</td>\n",
       "      <td>8.435549</td>\n",
       "    </tr>\n",
       "    <tr>\n",
       "      <th>1</th>\n",
       "      <td>Br.CC(Nc1ncnc2[nH]c(-c3ccc(O)cc3)cc12)c1cccc2c...</td>\n",
       "      <td>IC50</td>\n",
       "      <td>CHEMBL1914666</td>\n",
       "      <td>461.36</td>\n",
       "      <td>6.915723</td>\n",
       "    </tr>\n",
       "    <tr>\n",
       "      <th>2</th>\n",
       "      <td>Br.CC[C@@H](Nc1ncnc2[nH]c(-c3ccc(O)cc3)cc12)c1...</td>\n",
       "      <td>IC50</td>\n",
       "      <td>CHEMBL1914665</td>\n",
       "      <td>425.33</td>\n",
       "      <td>1.386294</td>\n",
       "    </tr>\n",
       "    <tr>\n",
       "      <th>3</th>\n",
       "      <td>Br.C[C@@H](Nc1ncnc2[nH]c(-c3ccc(O)cc3)cc12)c1c...</td>\n",
       "      <td>IC50</td>\n",
       "      <td>CHEMBL1914655</td>\n",
       "      <td>490.20</td>\n",
       "      <td>4.127134</td>\n",
       "    </tr>\n",
       "    <tr>\n",
       "      <th>4</th>\n",
       "      <td>Br.C[C@@H](Nc1ncnc2[nH]c(-c3ccc(O)cc3)cc12)c1c...</td>\n",
       "      <td>IC50</td>\n",
       "      <td>CHEMBL1914654</td>\n",
       "      <td>429.29</td>\n",
       "      <td>1.335001</td>\n",
       "    </tr>\n",
       "    <tr>\n",
       "      <th>...</th>\n",
       "      <td>...</td>\n",
       "      <td>...</td>\n",
       "      <td>...</td>\n",
       "      <td>...</td>\n",
       "      <td>...</td>\n",
       "    </tr>\n",
       "    <tr>\n",
       "      <th>7675</th>\n",
       "      <td>c1cncc(Cn2ncc3cc(Nc4ncnn5ccc(COC[C@@H]6CNCCO6)...</td>\n",
       "      <td>IC50</td>\n",
       "      <td>CHEMBL247127</td>\n",
       "      <td>470.54</td>\n",
       "      <td>6.697034</td>\n",
       "    </tr>\n",
       "    <tr>\n",
       "      <th>7676</th>\n",
       "      <td>c1coc(-c2nnc(Cc3nc4ccccc4[nH]3)o2)c1</td>\n",
       "      <td>IC50</td>\n",
       "      <td>CHEMBL4061912</td>\n",
       "      <td>266.26</td>\n",
       "      <td>11.512925</td>\n",
       "    </tr>\n",
       "    <tr>\n",
       "      <th>7677</th>\n",
       "      <td>c1csc(-c2cc3nccc(Nc4ccc5[nH]ccc5c4)c3s2)c1</td>\n",
       "      <td>IC50</td>\n",
       "      <td>CHEMBL310853</td>\n",
       "      <td>347.47</td>\n",
       "      <td>0.000000</td>\n",
       "    </tr>\n",
       "    <tr>\n",
       "      <th>7679</th>\n",
       "      <td>c1csc(-c2nnc(Cc3nc4ccccc4[nH]3)o2)c1</td>\n",
       "      <td>IC50</td>\n",
       "      <td>CHEMBL4075892</td>\n",
       "      <td>282.33</td>\n",
       "      <td>11.512925</td>\n",
       "    </tr>\n",
       "    <tr>\n",
       "      <th>7680</th>\n",
       "      <td>c1nc(Nc2ccc3[nH]ccc3c2)c2sccc2n1</td>\n",
       "      <td>IC50</td>\n",
       "      <td>CHEMBL442749</td>\n",
       "      <td>266.33</td>\n",
       "      <td>6.396930</td>\n",
       "    </tr>\n",
       "  </tbody>\n",
       "</table>\n",
       "<p>7111 rows × 5 columns</p>\n",
       "</div>"
      ],
      "text/plain": [
       "                                                 Smiles Standard Type  \\\n",
       "0     Br.CC(Nc1ncnc2[nH]c(-c3ccc(O)cc3)cc12)c1ccc(C(...          IC50   \n",
       "1     Br.CC(Nc1ncnc2[nH]c(-c3ccc(O)cc3)cc12)c1cccc2c...          IC50   \n",
       "2     Br.CC[C@@H](Nc1ncnc2[nH]c(-c3ccc(O)cc3)cc12)c1...          IC50   \n",
       "3     Br.C[C@@H](Nc1ncnc2[nH]c(-c3ccc(O)cc3)cc12)c1c...          IC50   \n",
       "4     Br.C[C@@H](Nc1ncnc2[nH]c(-c3ccc(O)cc3)cc12)c1c...          IC50   \n",
       "...                                                 ...           ...   \n",
       "7675  c1cncc(Cn2ncc3cc(Nc4ncnn5ccc(COC[C@@H]6CNCCO6)...          IC50   \n",
       "7676               c1coc(-c2nnc(Cc3nc4ccccc4[nH]3)o2)c1          IC50   \n",
       "7677         c1csc(-c2cc3nccc(Nc4ccc5[nH]ccc5c4)c3s2)c1          IC50   \n",
       "7679               c1csc(-c2nnc(Cc3nc4ccccc4[nH]3)o2)c1          IC50   \n",
       "7680                   c1nc(Nc2ccc3[nH]ccc3c2)c2sccc2n1          IC50   \n",
       "\n",
       "     Molecule ChEMBL ID Molecular Weight  log_ic_50  \n",
       "0         CHEMBL1914657           479.30   8.435549  \n",
       "1         CHEMBL1914666           461.36   6.915723  \n",
       "2         CHEMBL1914665           425.33   1.386294  \n",
       "3         CHEMBL1914655           490.20   4.127134  \n",
       "4         CHEMBL1914654           429.29   1.335001  \n",
       "...                 ...              ...        ...  \n",
       "7675       CHEMBL247127           470.54   6.697034  \n",
       "7676      CHEMBL4061912           266.26  11.512925  \n",
       "7677       CHEMBL310853           347.47   0.000000  \n",
       "7679      CHEMBL4075892           282.33  11.512925  \n",
       "7680       CHEMBL442749           266.33   6.396930  \n",
       "\n",
       "[7111 rows x 5 columns]"
      ]
     },
     "execution_count": 35,
     "metadata": {},
     "output_type": "execute_result"
    }
   ],
   "source": [
    "cleaned_df"
   ]
  },
  {
   "cell_type": "markdown",
   "metadata": {},
   "source": [
    "As a summary, if we simply remove all duplicates, remove all unit inconsistency, remove all \"<\" and \">\" relation value, remove all duplicates because we don't know which data to believe, we are expected to get a dataset around 3000 data. With reasonable conservation and manipulation, we have conserved 7111 data in total."
   ]
  },
  {
   "cell_type": "markdown",
   "metadata": {},
   "source": [
    "# Part III. Data transformation "
   ]
  },
  {
   "cell_type": "markdown",
   "metadata": {},
   "source": [
    "Now we have our data with:\n",
    "- Relation(=, >, <) handled\n",
    "- Unit unified\n",
    "- Duplicates removed\n",
    "- Value averaged for duplicates\n",
    "- Inconsistent data removed\n",
    "\n",
    "Let's take a look how it looks like"
   ]
  },
  {
   "cell_type": "code",
   "execution_count": 36,
   "metadata": {},
   "outputs": [
    {
     "data": {
      "image/png": "[encoded data removed]",
      "text/plain": [
       "<Figure size 1008x720 with 1 Axes>"
      ]
     },
     "metadata": {
      "needs_background": "light"
     },
     "output_type": "display_data"
    }
   ],
   "source": [
    "cleaned_df[['log_ic_50']].hist(figsize = (14, 10), bins = 100)\n",
    "plt.show()"
   ]
  },
  {
   "cell_type": "markdown",
   "metadata": {},
   "source": [
    "We then split this cleaned data set into training and testing set and convert into different format for different models."
   ]
  },
  {
   "cell_type": "code",
   "execution_count": 37,
   "metadata": {},
   "outputs": [],
   "source": [
    "train, test = train_test_split(cleaned_df, test_size=0.2)"
   ]
  },
  {
   "cell_type": "code",
   "execution_count": 38,
   "metadata": {},
   "outputs": [],
   "source": [
    "#For GNN affinity predictor\n",
    "train[['Smiles','log_ic_50']].to_csv('erbb1_logic50_data_train.txt', sep=\" \", header = False, index = None)\n",
    "test[['Smiles','log_ic_50']].to_csv('erbb1_logic50_data_test.txt', sep=\" \", header = False, index = None)"
   ]
  },
  {
   "cell_type": "code",
   "execution_count": 39,
   "metadata": {},
   "outputs": [],
   "source": [
    "#For SAMPN\n",
    "cleaned_df[['Smiles', 'log_ic_50']].to_csv('erbb1_log_50.csv', sep = ',', header = False, index = None)"
   ]
  },
  {
   "cell_type": "code",
   "execution_count": 40,
   "metadata": {},
   "outputs": [],
   "source": [
    "#For ChemTS\n",
    "cleaned_df[['Smiles']].to_csv('erbb1_ligand.csv', sep = ',', header = False, index = None)"
   ]
  },
  {
   "cell_type": "code",
   "execution_count": 41,
   "metadata": {},
   "outputs": [],
   "source": [
    "#===============End====================="
   ]
  }
 ],
 "metadata": {
  "kernelspec": {
   "display_name": "Python 3",
   "language": "python",
   "name": "python3"
  },
  "language_info": {
   "codemirror_mode": {
    "name": "ipython",
    "version": 3
   },
   "file_extension": ".py",
   "mimetype": "text/x-python",
   "name": "python",
   "nbconvert_exporter": "python",
   "pygments_lexer": "ipython3",
   "version": "3.7.6"
  }
 },
 "nbformat": 4,
 "nbformat_minor": 4
}
